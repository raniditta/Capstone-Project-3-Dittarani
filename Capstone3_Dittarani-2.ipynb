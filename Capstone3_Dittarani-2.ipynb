{
  "nbformat": 4,
  "nbformat_minor": 0,
  "metadata": {
    "colab": {
      "provenance": []
    },
    "kernelspec": {
      "name": "python3",
      "display_name": "Python 3"
    },
    "language_info": {
      "name": "python"
    }
  },
  "cells": [
    {
      "cell_type": "markdown",
      "source": [
        "# Laporan Proyek Analisis dan Prediksi Pembatalan Pemesanan Hotel\n",
        "oleh : Ni Putu Dittarani Pramesti\n"
      ],
      "metadata": {
        "id": "fp_7u5n_rYsz"
      }
    },
    {
      "cell_type": "markdown",
      "source": [
        "## Latar Belakang Masalah\n",
        "\n",
        "Industri perhotelan merupakan sektor yang sangat bergantung pada pemesanan kamar untuk menjaga kelangsungan operasional dan profitabilitas.\n",
        "Namun, salah satu tantangan terbesar yang dihadapi oleh banyak hotel adalah tingkat pembatalan pemesanan yang tinggi. Pembatalan pemesanan dapat menimbulkan dampak negatif yang signifikan, baik secara finansial maupun dalam hal efisiensi operasional. Setiap pembatalan tidak hanya mengurangi pendapatan yang diharapkan tetapi juga menciptakan ketidakpastian dalam perencanaan dan manajemen hotel.\n",
        "\n",
        "Pembatalan pemesanan menjadi lebih rumit ketika dilakukan dalam waktu yang sangat dekat dengan tanggal menginap, yang menyebabkan kesulitan dalam mengganti pesanan tersebut. Hal ini mengakibatkan hotel kesulitan mengisi kamar yang kosong, dan menyebabkan hilangnya pendapatan yang seharusnya diperoleh. Berdasarkan tren global, tingkat pembatalan pemesanan hotel meningkat dalam beberapa tahun terakhir. Data industri menunjukkan bahwa pada tahun 2014 tingkat pembatalan mencapai 33%, sementara pada tahun 2018 meningkat menjadi 40%.\n",
        "\n",
        "Di sisi lain, dampak negatif lainnya adalah biaya pemasaran yang tidak efisien, di mana promosi dilakukan untuk pelanggan yang pada akhirnya membatalkan pemesanan mereka, sehingga perusahaan membayar untuk promosi yang tidak menghasilkan pendapatan. Masalah ini mengharuskan hotel untuk mencari cara untuk mengidentifikasi faktor-faktor yang dapat memprediksi pembatalan, serta strategi untuk mengurangi frekuensi pembatalan dan dampaknya. Dengan menggunakan analisis data yang cermat, hotel dapat memperoleh wawasan tentang pola-pola tertentu yang berkontribusi terhadap pembatalan pemesanan dan merancang strategi untuk menangani masalah ini.\n"
      ],
      "metadata": {
        "id": "QIJvnPzPrGN3"
      }
    },
    {
      "cell_type": "markdown",
      "source": [
        "## Tujuan Proyek\n",
        "\n",
        "Tujuan dari proyek ini adalah untuk mengembangkan sebuah model prediksi yang dapat memprediksi kemungkinan pembatalan pemesanan hotel berdasarkan data historis yang tersedia. Proyek ini bertujuan untuk memberikan wawasan bagi pengelola hotel mengenai faktor-faktor yang mempengaruhi pembatalan pemesanan serta meningkatkan proses manajemen pemesanan. Dengan model prediksi yang baik, hotel dapat mempersiapkan lebih baik untuk permintaan dan kemungkinan pembatalan, serta memaksimalkan tingkat hunian.\n"
      ],
      "metadata": {
        "id": "16U5x5AWsDHG"
      }
    },
    {
      "cell_type": "markdown",
      "source": [
        "## Deskripsi Masalah\n",
        "\n",
        "Pada industri perhotelan, pembatalan pemesanan dapat mengganggu manajemen sumber daya dan menyebabkan kerugian pendapatan. Dalam hal ini, sangat penting untuk memprediksi dan mengidentifikasi faktor-faktor yang dapat menyebabkan pembatalan. Data yang digunakan dalam proyek ini mencakup informasi pemesanan hotel yang melibatkan berbagai atribut, termasuk jenis segmen pasar, tipe pelanggan, status reservasi, serta informasi lain yang relevan.\n"
      ],
      "metadata": {
        "id": "SBBesIKcsM2G"
      }
    },
    {
      "cell_type": "markdown",
      "source": [
        "## Analisis Mendalam Permasalahan Hotel Booking Cancellations\n",
        "\n",
        "Industri perhotelan menghadapi tantangan serius terkait tingginya tingkat pembatalan pesanan (cancellation rate).\n",
        "Pada dataset yang dianalisis, tingkat pembatalan mencapai 37%, yang berada di tengah tren global peningkatan cancellation rate dari 33% (2014) menjadi 40% (2018).\n",
        "Pembatalan ini berdampak signifikan pada revenue perusahaan, mengingat:\n",
        "- **Ruang kosong tidak terisi ulang:** Ketika pelanggan membatalkan pesanan, waktu untuk mengganti pemesanan tersebut sangat terbatas, terutama pada tanggal yang dekat dengan masa menginap.\n",
        "- **Biaya promosi salah sasaran:** Jika marketing dilakukan kepada pelanggan yang rentan membatalkan pesanan, maka perusahaan tidak hanya kehilangan pendapatan potensial tetapi juga harus menanggung biaya tambahan tanpa hasil.\n",
        "\n",
        "**Penyebab Utama dan Implikasi:**\n",
        "Berdasarkan data dan referensi industri, beberapa penyebab pembatalan meliputi:\n",
        "- **Pemesanan tanpa deposit:** Pelanggan yang tidak memberikan deposit memiliki risiko lebih tinggi untuk membatalkan pesanan.\n",
        "- **Durasi menunggu terlalu lama:** Pesanan yang berada dalam daftar tunggu lama cenderung dibatalkan.\n",
        "- **Kurangnya permintaan layanan tambahan:** Pelanggan dengan permintaan tambahan, seperti tempat parkir, cenderung lebih berkomitmen untuk tetap melanjutkan pemesanannya.\n",
        "\n",
        "**Dampak dari pembatalan ini meluas ke:**\n",
        "- **Keuangan:** Hilangnya revenue hingga 15% dari potensi maksimal.\n",
        "- **Strategi marketing:** Perlu adanya efisiensi biaya promosi yang ditargetkan hanya pada pelanggan dengan risiko pembatalan rendah.\n",
        "- **Kepuasan pelanggan:** Peningkatan pembatalan dapat mengindikasikan ketidakpuasan pelanggan terhadap proses pemesanan atau pengalaman sebelumnya.\n",
        "\n",
        "**Data yang Digunakan:**\n",
        "Data yang digunakan dalam proyek ini adalah dataset Hotel Booking Demand yang berisi informasi tentang pemesanan hotel dan apakah pemesanan tersebut dibatalkan atau tidak. Dataset ini mencakup informasi seperti:\n",
        "- country: Negara asal pelanggan.\n",
        "- market_segment: Segmen pasar dari pemesan.\n",
        "- previous_cancellations: Jumlah pembatalan sebelumnya oleh pelanggan.\n",
        "- booking_changes: Jumlah perubahan pada pemesanan.\n",
        "- deposit_type: Jenis deposit yang digunakan.\n",
        "- customer_type: Jenis pelanggan (baru atau reguler).\n",
        "- days_in_waiting_list: Jumlah hari pelanggan menunggu konfirmasi pemesanan.\n",
        "- reserved_room_type: Jenis kamar yang dipesan.\n",
        "- required_car_parking_spaces: Apakah pelanggan membutuhkan tempat parkir.\n",
        "- total_of_special_requests: Jumlah permintaan khusus pelanggan.\n",
        "- is_canceled: Label target yang menunjukkan apakah pemesanan dibatalkan (1) atau tidak (0).\n"
      ],
      "metadata": {
        "id": "H6NrJ3E4sYbu"
      }
    },
    {
      "cell_type": "markdown",
      "source": [
        "## Proses dan Analisis Data"
      ],
      "metadata": {
        "id": "ZgzLD0JotDp2"
      }
    },
    {
      "cell_type": "markdown",
      "source": [
        "### Data Cleaning\n",
        "Proses pembersihan data dimulai dengan mengidentifikasi dan menangani nilai yang hilang serta kolom yang tidak relevan:\n",
        "\n",
        "1. **Penghapusan kolom yang tidak relevan:** Kolom 'reservation_status_date' dihapus karena tidak ada informasi yang relevan bagi model prediksi.\n",
        "2. **Penanganan nilai hilang:** Kolom 'country' diisi dengan nilai modus (nilai yang paling sering muncul) untuk mengatasi nilai kosong."
      ],
      "metadata": {
        "id": "WUaP1GBBuJmq"
      }
    },
    {
      "cell_type": "code",
      "execution_count": null,
      "metadata": {
        "colab": {
          "base_uri": "https://localhost:8080/"
        },
        "id": "UagJ-GAup4XP",
        "outputId": "29f4b0e4-d821-4bfa-f599-49a2b6c15d45"
      },
      "outputs": [
        {
          "output_type": "stream",
          "name": "stdout",
          "text": [
            "Kolom 'reservation_status_date' tidak ditemukan.\n"
          ]
        },
        {
          "output_type": "stream",
          "name": "stderr",
          "text": [
            "<ipython-input-1-117a8870451b>:24: FutureWarning: A value is trying to be set on a copy of a DataFrame or Series through chained assignment using an inplace method.\n",
            "The behavior will change in pandas 3.0. This inplace method will never work because the intermediate object on which we are setting values always behaves as a copy.\n",
            "\n",
            "For example, when doing 'df[col].method(value, inplace=True)', try using 'df.method({col: value}, inplace=True)' or df[col] = df[col].method(value) instead, to perform the operation inplace on the original object.\n",
            "\n",
            "\n",
            "  df['country'].fillna(df['country'].mode()[0], inplace=True)\n"
          ]
        }
      ],
      "source": [
        "# Import library\n",
        "import pandas as pd\n",
        "import numpy as np\n",
        "from sklearn.model_selection import train_test_split\n",
        "from sklearn.ensemble import RandomForestClassifier\n",
        "from sklearn.metrics import classification_report, confusion_matrix, accuracy_score\n",
        "import seaborn as sns\n",
        "import matplotlib.pyplot as plt\n",
        "from sklearn.preprocessing import StandardScaler, OneHotEncoder\n",
        "from sklearn.compose import ColumnTransformer\n",
        "from sklearn.pipeline import Pipeline\n",
        "\n",
        "# 1. Load Dataset\n",
        "df = pd.read_csv('/content/sample_data/data_hotel_booking_demand.csv')\n",
        "\n",
        "## 2. Data Cleaning\n",
        "# Jika kolom 'reservation_status_date' tidak ditemukan, bagian ini dihapus\n",
        "if 'reservation_status_date' in df.columns:\n",
        "    df.drop(['reservation_status_date'], axis=1, inplace=True)\n",
        "else:\n",
        "    print(\"Kolom 'reservation_status_date' tidak ditemukan.\")\n",
        "\n",
        "# Isi nilai kosong pada kolom 'country' dengan modus\n",
        "df['country'].fillna(df['country'].mode()[0], inplace=True)"
      ]
    },
    {
      "cell_type": "markdown",
      "source": [
        "### Data Exploration dan Statistik Deskriptif\n",
        "\n",
        "1. **Analisis tingkat pembatalan:**\n",
        "Persentase pemesanan yang dibatalkan dihitung untuk memberikan gambaran awal tentang seberapa besar masalah pembatalan ini di hotel.\n",
        "2. **Statistik deskriptif:**\n",
        "Fitur numerik dianalisis menggunakan deskripsi statistik untuk mendapatkan pemahaman lebih dalam tentang distribusi data seperti previous_cancellations, booking_changes, dan lainnya."
      ],
      "metadata": {
        "id": "gq-NrvROtsst"
      }
    },
    {
      "cell_type": "code",
      "source": [
        "# 3. Exploratory Data Analysis (EDA)\n",
        "print(\"Tingkat pembatalan (%):\", df['is_canceled'].mean() * 100)\n",
        "\n",
        "# Analisis fitur numerik\n",
        "num_features = ['previous_cancellations', 'days_in_waiting_list', 'required_car_parking_spaces', 'total_of_special_requests']\n",
        "print(df[num_features].describe())"
      ],
      "metadata": {
        "colab": {
          "base_uri": "https://localhost:8080/"
        },
        "id": "t7v8uu9AqQhH",
        "outputId": "625ad026-0854-40ee-d445-510ef2fca341"
      },
      "execution_count": null,
      "outputs": [
        {
          "output_type": "stream",
          "name": "stdout",
          "text": [
            "Tingkat pembatalan (%): 36.82768358201812\n",
            "       previous_cancellations  days_in_waiting_list  \\\n",
            "count            83573.000000          83573.000000   \n",
            "mean                 0.086798              2.330561   \n",
            "std                  0.841011             17.673051   \n",
            "min                  0.000000              0.000000   \n",
            "25%                  0.000000              0.000000   \n",
            "50%                  0.000000              0.000000   \n",
            "75%                  0.000000              0.000000   \n",
            "max                 26.000000            391.000000   \n",
            "\n",
            "       required_car_parking_spaces  total_of_special_requests  \n",
            "count                 83573.000000               83573.000000  \n",
            "mean                      0.062999                   0.573211  \n",
            "std                       0.246919                   0.795163  \n",
            "min                       0.000000                   0.000000  \n",
            "25%                       0.000000                   0.000000  \n",
            "50%                       0.000000                   0.000000  \n",
            "75%                       0.000000                   1.000000  \n",
            "max                       8.000000                   5.000000  \n"
          ]
        }
      ]
    },
    {
      "cell_type": "markdown",
      "source": [
        "# Analisis Tingkat Pembatalan dan Statistik Deskriptif Fitur Numerik\n",
        "\n",
        "## **1. Tingkat Pembatalan (%)**\n",
        "**Tingkat Pembatalan: 36.83%**\n",
        "\n",
        "Sekitar **36,83%** dari total pemesanan dibatalkan. Ini adalah proporsi yang cukup tinggi, mengindikasikan potensi masalah dalam manajemen pemesanan atau adanya faktor eksternal yang menyebabkan pembatalan.\n",
        "\n",
        "---\n",
        "\n",
        "## **2. Statistik Deskriptif Fitur Numerik**\n",
        "\n",
        "### **a. previous_cancellations (Jumlah pembatalan sebelumnya)**\n",
        "\n",
        "- **Rata-rata:** 0,087\n",
        "- **Distribusi:** Mayoritas pelanggan tidak pernah membatalkan pemesanan sebelumnya (nilai kuartil 25%, 50%, dan 75% semuanya 0).\n",
        "- **Outlier:** Ada pelanggan yang membatalkan hingga 26 kali, menunjukkan kemungkinan adanya pelanggan dengan kebiasaan membatalkan.\n",
        "\n",
        "**Interpretasi:**\n",
        "- Sebagian besar pelanggan tidak memiliki riwayat pembatalan, tetapi pelanggan dengan jumlah pembatalan tinggi perlu diperhatikan karena dapat memengaruhi performa bisnis.\n",
        "\n",
        "---\n",
        "\n",
        "### **b. days_in_waiting_list (Jumlah hari dalam daftar tunggu)**\n",
        "\n",
        "- **Rata-rata:** 2,33 hari\n",
        "- **Distribusi:** Sebagian besar pelanggan tidak masuk daftar tunggu sama sekali (nilai median dan kuartil bawah = 0).\n",
        "- **Outlier:** Ada pelanggan yang menunggu hingga 391 hari, yang kemungkinan besar adalah kasus ekstrem atau kesalahan data.\n",
        "\n",
        "**Interpretasi:**\n",
        "- Sebagian besar pelanggan tidak terpengaruh oleh daftar tunggu, namun beberapa kasus ekstrem perlu dievaluasi lebih lanjut untuk memahami alasan waktu tunggu yang panjang.\n",
        "\n",
        "---\n",
        "\n",
        "### **c. required_car_parking_spaces (Jumlah tempat parkir yang dibutuhkan)**\n",
        "\n",
        "- **Rata-rata:** 0,063\n",
        "- **Distribusi:** Sebagian besar pelanggan tidak membutuhkan tempat parkir (kuartil 25%, 50%, dan 75% = 0).\n",
        "- **Outlier:** Ada pelanggan yang memesan hingga 8 tempat parkir, mungkin untuk grup besar atau acara khusus.\n",
        "\n",
        "**Interpretasi:**\n",
        "- Kebutuhan parkir relatif rendah, tetapi outlier seperti pemesanan 8 tempat parkir menunjukkan kebutuhan spesifik, misalnya untuk acara grup atau keluarga.\n",
        "\n",
        "---\n",
        "\n",
        "### **d. total_of_special_requests (Jumlah permintaan khusus)**\n",
        "\n",
        "- **Rata-rata:** 0,57 permintaan khusus\n",
        "- **Distribusi:** Setengah dari pelanggan tidak memiliki permintaan khusus (median = 0).\n",
        "- **Outlier:** Beberapa pelanggan memiliki hingga 5 permintaan khusus, yang menunjukkan kebutuhan spesifik, seperti fasilitas tambahan.\n",
        "\n",
        "**Interpretasi:**\n",
        "- Sebagian besar pelanggan tidak memiliki permintaan khusus, tetapi kebutuhan tambahan (hingga 5 permintaan) perlu dikelola dengan baik untuk meningkatkan kepuasan pelanggan.\n",
        "\n",
        "---\n",
        "\n",
        "## **Kesimpulan Utama**\n",
        "\n",
        "1. **Tingkat Pembatalan Tinggi**:\n",
        "   - Tingkat pembatalan **36,83%** memerlukan perhatian lebih. Analisis lebih mendalam diperlukan untuk memahami penyebab utama, misalnya: kondisi pemesanan, metode pembayaran, atau faktor eksternal.\n",
        "\n",
        "2. **Karakteristik Fitur Numerik**:\n",
        "   - Sebagian besar pelanggan:\n",
        "     - Tidak memiliki pembatalan sebelumnya.\n",
        "     - Tidak membutuhkan tempat parkir.\n",
        "     - Tidak masuk daftar tunggu.\n",
        "   - **Permintaan Khusus**: Meskipun tidak umum, ada pelanggan dengan permintaan hingga 5 kebutuhan spesifik yang harus dikelola secara efektif.\n",
        "\n",
        "3. **Rekomendasi**:\n",
        "   - Analisis lebih lanjut terhadap pelanggan dengan outlier (misalnya: pembatalan tinggi, waktu tunggu panjang, atau kebutuhan parkir besar).\n",
        "   - Fokus pada pengelolaan pelanggan dengan permintaan khusus untuk meningkatkan kepuasan dan mengurangi tingkat pembatalan."
      ],
      "metadata": {
        "id": "_Y_nRjUqGZDr"
      }
    },
    {
      "cell_type": "markdown",
      "source": [
        "### Feature Engineering\n",
        "Beberapa teknik untuk menyiapkan fitur data digunakan:\n",
        "- **Encoding untuk fitur kategorikal:** Kolom kategorikal seperti country, deposit_type, customer_type, dan market_segment dikonversi menjadi format numerik menggunakan teknik encoding (Label Encoding dan OneHotEncoding).\n",
        "- **Pembuatan fitur dummy:** Fitur kategorikal lainnya diubah menjadi variabel dummy untuk menghindari masalah dengan data kategorikal."
      ],
      "metadata": {
        "id": "l0H60nNJupCX"
      }
    },
    {
      "cell_type": "code",
      "source": [
        "# 4. Feature Engineering\n",
        "# Encoding untuk kolom 'country'\n",
        "from sklearn.preprocessing import LabelEncoder\n",
        "\n",
        "label_encoder = LabelEncoder()\n",
        "df['country'] = label_encoder.fit_transform(df['country'])\n",
        "\n",
        "# Check available columns\n",
        "print(\"Available columns:\", df.columns)\n",
        "\n",
        "# Encoding fitur kategorikal lainnya, periksa kolom yang ada\n",
        "categorical_cols = ['country', 'deposit_type', 'customer_type', 'market_segment', 'reserved_room_type']\n",
        "\n",
        "# Pastikan kolom ada sebelum melakukan encoding\n",
        "existing_categorical_cols = [col for col in categorical_cols if col in df.columns]\n",
        "df = pd.get_dummies(df, columns=existing_categorical_cols, drop_first=True)\n",
        "\n",
        "# 5. Data Splitting\n",
        "X = df.drop('is_canceled', axis=1)\n",
        "y = df['is_canceled']\n",
        "X_train, X_test, y_train, y_test = train_test_split(X, y, test_size=0.2, random_state=42, stratify=y)"
      ],
      "metadata": {
        "colab": {
          "base_uri": "https://localhost:8080/"
        },
        "id": "EkTamy-6qgWs",
        "outputId": "a1d82dc3-527e-497f-c5a8-13769f32f125"
      },
      "execution_count": null,
      "outputs": [
        {
          "output_type": "stream",
          "name": "stdout",
          "text": [
            "Available columns: Index(['country', 'market_segment', 'previous_cancellations',\n",
            "       'booking_changes', 'deposit_type', 'days_in_waiting_list',\n",
            "       'customer_type', 'reserved_room_type', 'required_car_parking_spaces',\n",
            "       'total_of_special_requests', 'is_canceled'],\n",
            "      dtype='object')\n"
          ]
        }
      ]
    },
    {
      "cell_type": "markdown",
      "source": [
        "### Visualisasi Data\n",
        "Beberapa visualisasi digunakan untuk memahami hubungan antar fitur, termasuk heatmap korelasi untuk fitur numerik dan matriks kebingungannya."
      ],
      "metadata": {
        "id": "3eiYKQs7u3rC"
      }
    },
    {
      "cell_type": "markdown",
      "source": [
        "## Analisis Data Eksplorasi (EDA) Berdasarkan Coding"
      ],
      "metadata": {
        "id": "JAqg9tuy-35d"
      }
    },
    {
      "cell_type": "markdown",
      "source": [
        "### Distribusi Kolom Target"
      ],
      "metadata": {
        "id": "1zCVYx8T_EqY"
      }
    },
    {
      "cell_type": "markdown",
      "source": [
        "- Visualisasi distribusi kolom is_canceled menggunakan countplot.\n",
        "- Grafik ini menunjukkan jumlah pemesanan yang dibatalkan (nilai 1) dibandingkan dengan yang tidak dibatalkan (nilai 0).\n",
        "\n",
        "**Hasil:**\n",
        "- Memberikan informasi proporsi awal data, apakah dataset memiliki imbalance (ketidakseimbangan) dalam kelas target.\n",
        "- Jika pembatalan mendominasi, hal ini mencerminkan bahwa pembatalan adalah isu penting yang perlu diatasi."
      ],
      "metadata": {
        "id": "iPeWAckYACb-"
      }
    },
    {
      "cell_type": "code",
      "source": [
        "sns.countplot(data=df, x='is_canceled', palette='viridis')\n",
        "plt.title('Distribusi Pembatalan (Target)')\n",
        "plt.show()"
      ],
      "metadata": {
        "colab": {
          "base_uri": "https://localhost:8080/",
          "height": 604
        },
        "id": "qZCdZB1x_VC4",
        "outputId": "7c15d13a-f494-472a-c4ad-193ddd3f2cf3"
      },
      "execution_count": null,
      "outputs": [
        {
          "output_type": "stream",
          "name": "stderr",
          "text": [
            "<ipython-input-4-dc2077f95740>:1: FutureWarning: \n",
            "\n",
            "Passing `palette` without assigning `hue` is deprecated and will be removed in v0.14.0. Assign the `x` variable to `hue` and set `legend=False` for the same effect.\n",
            "\n",
            "  sns.countplot(data=df, x='is_canceled', palette='viridis')\n"
          ]
        },
        {
          "output_type": "display_data",
          "data": {
            "text/plain": [
              "<Figure size 640x480 with 1 Axes>"
            ],
            "image/png": "[encoded data removed]"
          },
          "metadata": {}
        }
      ]
    },
    {
      "cell_type": "markdown",
      "source": [
        "Visualisasi ini menampilkan distribusi pembatalan pemesanan pada dataset, di mana kolom is_canceled merepresentasikan status pemesanan (0 untuk tidak dibatalkan dan 1 untuk dibatalkan). Grafik ini relevan dalam analisis karena memberikan gambaran awal mengenai proporsi antara pemesanan yang berhasil dilakukan dan yang dibatalkan.\n",
        "\n",
        "Dari hasil tersebut, terlihat bahwa jumlah pemesanan yang tidak dibatalkan jauh lebih besar dibandingkan dengan yang dibatalkan, menunjukkan bahwa mayoritas pelanggan cenderung melanjutkan pemesanannya. Informasi ini penting untuk memahami pola perilaku pelanggan dan potensi faktor yang memengaruhi pembatalan. Misalnya, jika pembatalan jumlahnya cukup signifikan, analisis lebih lanjut dapat dilakukan untuk mengeksplorasi variabel lain yang berkaitan dengan pembatalan, seperti harga, durasi pemesanan, atau musim.\n",
        "\n",
        "\n",
        "Selain itu, peringatan (FutureWarning) dalam kode menunjukkan kebutuhan untuk memperbarui cara penggunaan argumen pada fungsi countplot agar kode tetap kompatibel dengan versi pustaka terbaru, yang menjadi bagian penting dalam pengelolaan proyek analitik data yang berkelanjutan."
      ],
      "metadata": {
        "id": "Qwxh8s_oJNvb"
      }
    },
    {
      "cell_type": "markdown",
      "source": [
        "### Proporsi Pembatalan"
      ],
      "metadata": {
        "id": "GiRXtpGG_b68"
      }
    },
    {
      "cell_type": "markdown",
      "source": [
        "- Menghitung tingkat pembatalan dalam persentase dengan membandingkan jumlah pembatalan terhadap total pemesanan.\n",
        "- Memberikan gambaran numerik yang lebih jelas tentang proporsi pembatalan dibandingkan pemesanan yang tidak dibatalkan.\n",
        "\n",
        "**Hasil:**\n",
        "\n",
        "- Misalnya, jika tingkat pembatalan adalah 37%, ini mengonfirmasi bahwa pembatalan adalah masalah signifikan yang membutuhkan solusi strategis."
      ],
      "metadata": {
        "id": "26NEs7NUAFfn"
      }
    },
    {
      "cell_type": "code",
      "source": [
        "canceled_rate = df['is_canceled'].value_counts(normalize=True) * 100\n",
        "print(f\"Tingkat pembatalan: {canceled_rate[1]:.2f}%\")"
      ],
      "metadata": {
        "colab": {
          "base_uri": "https://localhost:8080/"
        },
        "id": "agNDn92d_l-z",
        "outputId": "06c4b6b6-3ab1-4a04-83d4-79392168b905"
      },
      "execution_count": null,
      "outputs": [
        {
          "output_type": "stream",
          "name": "stdout",
          "text": [
            "Tingkat pembatalan: 36.83%\n"
          ]
        }
      ]
    },
    {
      "cell_type": "markdown",
      "source": [
        "Proporsi pembatalan yang dihitung menunjukkan bahwa 36,83% dari total pemesanan telah dibatalkan, sedangkan sisanya (63,17%) merupakan pemesanan yang berhasil dilakukan. Tingkat pembatalan ini memberikan gambaran kuantitatif tentang seberapa besar pembatalan menjadi masalah dalam konteks bisnis yang dianalisis. Dengan angka mendekati 37%, ini menandakan bahwa lebih dari sepertiga pelanggan memutuskan untuk membatalkan pemesanan mereka, yang cukup signifikan dan dapat berdampak langsung pada pendapatan, efisiensi operasional, dan pengalaman pelanggan.\n",
        "\n",
        "Angka ini menunjukkan bahwa pembatalan bukanlah masalah minor dan membutuhkan perhatian strategis. Beberapa langkah yang dapat diambil mencakup analisis mendalam untuk mengidentifikasi penyebab pembatalan, seperti harga, fleksibilitas kebijakan pembatalan, atau faktor eksternal seperti perubahan kebutuhan pelanggan. Dengan memahami penyebab ini, perusahaan dapat merancang solusi untuk mengurangi tingkat pembatalan, seperti menawarkan insentif untuk tetap melanjutkan pemesanan, memperbaiki pengalaman pengguna, atau membuat kebijakan yang lebih fleksibel sesuai kebutuhan pelanggan. Tingkat pembatalan sebesar ini juga menjadi indikator penting untuk melacak efektivitas inisiatif yang diimplementasikan ke depan.\n",
        "\n",
        "\n",
        "\n",
        "\n",
        "\n",
        "\n",
        "\n"
      ],
      "metadata": {
        "id": "M4QAG9eCJe0j"
      }
    },
    {
      "cell_type": "markdown",
      "source": [
        "### Hubungan previous_cancellations dengan is_canceled"
      ],
      "metadata": {
        "id": "5bUwS6PwAMaT"
      }
    },
    {
      "cell_type": "markdown",
      "source": [
        "- Analisis hubungan antara previous_cancellations (jumlah pembatalan sebelumnya) dan is_canceled (status pembatalan).\n",
        "- Menggunakan boxplot untuk melihat distribusi data pada setiap kategori (dibatalkan atau tidak).\n",
        "\n",
        "**Hasil:**\n",
        "\n",
        "- Pelanggan dengan riwayat pembatalan yang lebih tinggi cenderung membatalkan pesanan lagi.\n",
        "- Menunjukkan bahwa riwayat pembatalan adalah prediktor penting dalam model pembatalan."
      ],
      "metadata": {
        "id": "5bHuDYEaAQtg"
      }
    },
    {
      "cell_type": "code",
      "source": [
        "sns.boxplot(data=df, x='is_canceled', y='previous_cancellations', palette='viridis')\n",
        "plt.title('Hubungan Pembatalan dengan Previous Cancellations')\n",
        "plt.show()"
      ],
      "metadata": {
        "colab": {
          "base_uri": "https://localhost:8080/",
          "height": 604
        },
        "id": "cqXo98NtAgQx",
        "outputId": "0542644f-3bf8-49eb-afad-2db87a9810cd"
      },
      "execution_count": null,
      "outputs": [
        {
          "output_type": "stream",
          "name": "stderr",
          "text": [
            "<ipython-input-7-8ba65247d978>:1: FutureWarning: \n",
            "\n",
            "Passing `palette` without assigning `hue` is deprecated and will be removed in v0.14.0. Assign the `x` variable to `hue` and set `legend=False` for the same effect.\n",
            "\n",
            "  sns.boxplot(data=df, x='is_canceled', y='previous_cancellations', palette='viridis')\n"
          ]
        },
        {
          "output_type": "display_data",
          "data": {
            "text/plain": [
              "<Figure size 640x480 with 1 Axes>"
            ],
            "image/png": "[encoded data removed]"
          },
          "metadata": {}
        }
      ]
    },
    {
      "cell_type": "markdown",
      "source": [
        "Analisis hubungan antara variabel `previous_cancellations` (jumlah pembatalan sebelumnya) dan `is_canceled` (status pembatalan saat ini) menunjukkan bahwa pelanggan dengan riwayat pembatalan yang lebih tinggi cenderung kembali membatalkan pesanan mereka. Dari visualisasi *boxplot*, terlihat bahwa sebagian besar pelanggan yang tidak membatalkan pemesanan saat ini (`is_canceled = 0`) memiliki riwayat pembatalan yang mendekati nol. Sebaliknya, untuk pelanggan yang membatalkan pemesanannya (`is_canceled = 1`), beberapa memiliki jumlah pembatalan sebelumnya yang signifikan, dengan beberapa kasus ekstrim menunjukkan lebih dari 20 kali pembatalan.\n",
        "\n",
        "\n",
        "Hasil ini mengindikasikan bahwa riwayat pembatalan dapat menjadi prediktor yang penting dalam model analitik untuk memprediksi pembatalan di masa mendatang. Pelanggan dengan jumlah pembatalan sebelumnya yang tinggi menunjukkan kecenderungan untuk terus membatalkan pesanan. Oleh karena itu, fitur `previous_cancellations` dapat digunakan dalam algoritma pembelajaran mesin untuk membantu bisnis mengidentifikasi pelanggan yang memiliki risiko tinggi membatalkan pemesanannya. Dalam praktik bisnis, informasi ini dapat dimanfaatkan untuk merancang strategi pencegahan, seperti memberikan insentif untuk mempertahankan pemesanan atau mengevaluasi kebijakan pembatalan. Analisis ini juga menyoroti pentingnya memahami perilaku historis pelanggan untuk pengambilan keputusan berbasis data."
      ],
      "metadata": {
        "id": "AhIo2LPeJuBo"
      }
    },
    {
      "cell_type": "markdown",
      "source": [
        "### Hubungan total_of_special_requests dengan is_canceled"
      ],
      "metadata": {
        "id": "BaKJlr66Aj5f"
      }
    },
    {
      "cell_type": "markdown",
      "source": [
        "- Menganalisis hubungan antara jumlah permintaan khusus (total_of_special_requests) dan status pembatalan (is_canceled).\n",
        "\n",
        "**Hasil:**\n",
        "\n",
        "- Pelanggan dengan lebih banyak permintaan khusus cenderung tidak membatalkan pemesanan.\n",
        "- Hal ini mengindikasikan bahwa permintaan khusus mencerminkan komitmen pelanggan terhadap pemesanan.\n",
        "- Informasi ini penting untuk strategi layanan pelanggan yang lebih efektif."
      ],
      "metadata": {
        "id": "Otfpxr1PApdu"
      }
    },
    {
      "cell_type": "code",
      "source": [
        "sns.boxplot(data=df, x='is_canceled', y='total_of_special_requests', palette='viridis')\n",
        "plt.title('Hubungan Pembatalan dengan Total Special Requests')\n",
        "plt.show()"
      ],
      "metadata": {
        "colab": {
          "base_uri": "https://localhost:8080/",
          "height": 604
        },
        "id": "V90jR9o7A2jM",
        "outputId": "57534c9d-1834-4f4d-deb3-1e957f233b78"
      },
      "execution_count": null,
      "outputs": [
        {
          "output_type": "stream",
          "name": "stderr",
          "text": [
            "<ipython-input-8-5f70b7dc16f4>:1: FutureWarning: \n",
            "\n",
            "Passing `palette` without assigning `hue` is deprecated and will be removed in v0.14.0. Assign the `x` variable to `hue` and set `legend=False` for the same effect.\n",
            "\n",
            "  sns.boxplot(data=df, x='is_canceled', y='total_of_special_requests', palette='viridis')\n"
          ]
        },
        {
          "output_type": "display_data",
          "data": {
            "text/plain": [
              "<Figure size 640x480 with 1 Axes>"
            ],
            "image/png": "[encoded data removed]"
          },
          "metadata": {}
        }
      ]
    },
    {
      "cell_type": "markdown",
      "source": [
        "Berdasarkan visualisasi boxplot hubungan antara total_of_special_requests (jumlah permintaan khusus) dan is_canceled (status pembatalan), terdapat pola yang menunjukkan bahwa pelanggan dengan jumlah permintaan khusus lebih tinggi cenderung tidak membatalkan pemesanan mereka (is_canceled = 0).\n",
        "\n",
        "Pelanggan yang membatalkan pesanan (is_canceled = 1) umumnya memiliki nilai total_of_special_requests yang sangat rendah atau nol. Sebaliknya, pelanggan yang tidak membatalkan pemesanan cenderung memiliki lebih banyak permintaan khusus. Hal ini menunjukkan bahwa adanya permintaan khusus bisa menjadi indikator tingkat komitmen pelanggan terhadap pesanan mereka. Dengan kata lain, pelanggan yang berinteraksi lebih banyak dengan layanan melalui permintaan khusus tampaknya memiliki intensi lebih besar untuk melanjutkan pemesanannya."
      ],
      "metadata": {
        "id": "t4mO1pGJKEHW"
      }
    },
    {
      "cell_type": "markdown",
      "source": [
        "## Pemodelan"
      ],
      "metadata": {
        "id": "Y-bPCaEIvTXr"
      }
    },
    {
      "cell_type": "markdown",
      "source": [
        "### Model Random Forest\n",
        "Sebagai langkah modeling, Random Forest Classifier digunakan untuk prediksi. Model ini dipilih karena dapat menangani data yang beragam dan kompleks serta memiliki kemampuan untuk mengevaluasi pentingnya fitur.\n",
        "- **Pembagian data:** Dataset dibagi menjadi dua bagian yaitu data pelatihan (80%) dan data uji (20%).\n",
        "- **Pelatihan model:** Model dilatih menggunakan data pelatihan untuk mempelajari pola-pola yang ada dalam data.\n",
        "- **Prediksi dan Evaluasi:** Model diuji pada data uji, dan hasil prediksi dibandingkan dengan nilai asli untuk mengevaluasi kinerja model.\n"
      ],
      "metadata": {
        "id": "ntELt_JevFQD"
      }
    },
    {
      "cell_type": "code",
      "source": [
        "# 6. Modeling\n",
        "rf_model = RandomForestClassifier(random_state=42, n_estimators=100)\n",
        "rf_model.fit(X_train, y_train)"
      ],
      "metadata": {
        "colab": {
          "base_uri": "https://localhost:8080/",
          "height": 100
        },
        "id": "uN5StMyKqlh8",
        "outputId": "42c0f559-d7e3-484c-8107-e1e36bdcfcb6"
      },
      "execution_count": null,
      "outputs": [
        {
          "output_type": "execute_result",
          "data": {
            "text/plain": [
              "RandomForestClassifier(random_state=42)"
            ],
            "text/html": [
              "<style>#sk-container-id-1 {\n",
              "  /* Definition of color scheme common for light and dark mode */\n",
              "  --sklearn-color-text: black;\n",
              "  --sklearn-color-line: gray;\n",
              "  /* Definition of color scheme for unfitted estimators */\n",
              "  --sklearn-color-unfitted-level-0: #fff5e6;\n",
              "  --sklearn-color-unfitted-level-1: #f6e4d2;\n",
              "  --sklearn-color-unfitted-level-2: #ffe0b3;\n",
              "  --sklearn-color-unfitted-level-3: chocolate;\n",
              "  /* Definition of color scheme for fitted estimators */\n",
              "  --sklearn-color-fitted-level-0: #f0f8ff;\n",
              "  --sklearn-color-fitted-level-1: #d4ebff;\n",
              "  --sklearn-color-fitted-level-2: #b3dbfd;\n",
              "  --sklearn-color-fitted-level-3: cornflowerblue;\n",
              "\n",
              "  /* Specific color for light theme */\n",
              "  --sklearn-color-text-on-default-background: var(--sg-text-color, var(--theme-code-foreground, var(--jp-content-font-color1, black)));\n",
              "  --sklearn-color-background: var(--sg-background-color, var(--theme-background, var(--jp-layout-color0, white)));\n",
              "  --sklearn-color-border-box: var(--sg-text-color, var(--theme-code-foreground, var(--jp-content-font-color1, black)));\n",
              "  --sklearn-color-icon: #696969;\n",
              "\n",
              "  @media (prefers-color-scheme: dark) {\n",
              "    /* Redefinition of color scheme for dark theme */\n",
              "    --sklearn-color-text-on-default-background: var(--sg-text-color, var(--theme-code-foreground, var(--jp-content-font-color1, white)));\n",
              "    --sklearn-color-background: var(--sg-background-color, var(--theme-background, var(--jp-layout-color0, #111)));\n",
              "    --sklearn-color-border-box: var(--sg-text-color, var(--theme-code-foreground, var(--jp-content-font-color1, white)));\n",
              "    --sklearn-color-icon: #878787;\n",
              "  }\n",
              "}\n",
              "\n",
              "#sk-container-id-1 {\n",
              "  color: var(--sklearn-color-text);\n",
              "}\n",
              "\n",
              "#sk-container-id-1 pre {\n",
              "  padding: 0;\n",
              "}\n",
              "\n",
              "#sk-container-id-1 input.sk-hidden--visually {\n",
              "  border: 0;\n",
              "  clip: rect(1px 1px 1px 1px);\n",
              "  clip: rect(1px, 1px, 1px, 1px);\n",
              "  height: 1px;\n",
              "  margin: -1px;\n",
              "  overflow: hidden;\n",
              "  padding: 0;\n",
              "  position: absolute;\n",
              "  width: 1px;\n",
              "}\n",
              "\n",
              "#sk-container-id-1 div.sk-dashed-wrapped {\n",
              "  border: 1px dashed var(--sklearn-color-line);\n",
              "  margin: 0 0.4em 0.5em 0.4em;\n",
              "  box-sizing: border-box;\n",
              "  padding-bottom: 0.4em;\n",
              "  background-color: var(--sklearn-color-background);\n",
              "}\n",
              "\n",
              "#sk-container-id-1 div.sk-container {\n",
              "  /* jupyter's `normalize.less` sets `[hidden] { display: none; }`\n",
              "     but bootstrap.min.css set `[hidden] { display: none !important; }`\n",
              "     so we also need the `!important` here to be able to override the\n",
              "     default hidden behavior on the sphinx rendered scikit-learn.org.\n",
              "     See: https://github.com/scikit-learn/scikit-learn/issues/21755 */\n",
              "  display: inline-block !important;\n",
              "  position: relative;\n",
              "}\n",
              "\n",
              "#sk-container-id-1 div.sk-text-repr-fallback {\n",
              "  display: none;\n",
              "}\n",
              "\n",
              "div.sk-parallel-item,\n",
              "div.sk-serial,\n",
              "div.sk-item {\n",
              "  /* draw centered vertical line to link estimators */\n",
              "  background-image: linear-gradient(var(--sklearn-color-text-on-default-background), var(--sklearn-color-text-on-default-background));\n",
              "  background-size: 2px 100%;\n",
              "  background-repeat: no-repeat;\n",
              "  background-position: center center;\n",
              "}\n",
              "\n",
              "/* Parallel-specific style estimator block */\n",
              "\n",
              "#sk-container-id-1 div.sk-parallel-item::after {\n",
              "  content: \"\";\n",
              "  width: 100%;\n",
              "  border-bottom: 2px solid var(--sklearn-color-text-on-default-background);\n",
              "  flex-grow: 1;\n",
              "}\n",
              "\n",
              "#sk-container-id-1 div.sk-parallel {\n",
              "  display: flex;\n",
              "  align-items: stretch;\n",
              "  justify-content: center;\n",
              "  background-color: var(--sklearn-color-background);\n",
              "  position: relative;\n",
              "}\n",
              "\n",
              "#sk-container-id-1 div.sk-parallel-item {\n",
              "  display: flex;\n",
              "  flex-direction: column;\n",
              "}\n",
              "\n",
              "#sk-container-id-1 div.sk-parallel-item:first-child::after {\n",
              "  align-self: flex-end;\n",
              "  width: 50%;\n",
              "}\n",
              "\n",
              "#sk-container-id-1 div.sk-parallel-item:last-child::after {\n",
              "  align-self: flex-start;\n",
              "  width: 50%;\n",
              "}\n",
              "\n",
              "#sk-container-id-1 div.sk-parallel-item:only-child::after {\n",
              "  width: 0;\n",
              "}\n",
              "\n",
              "/* Serial-specific style estimator block */\n",
              "\n",
              "#sk-container-id-1 div.sk-serial {\n",
              "  display: flex;\n",
              "  flex-direction: column;\n",
              "  align-items: center;\n",
              "  background-color: var(--sklearn-color-background);\n",
              "  padding-right: 1em;\n",
              "  padding-left: 1em;\n",
              "}\n",
              "\n",
              "\n",
              "/* Toggleable style: style used for estimator/Pipeline/ColumnTransformer box that is\n",
              "clickable and can be expanded/collapsed.\n",
              "- Pipeline and ColumnTransformer use this feature and define the default style\n",
              "- Estimators will overwrite some part of the style using the `sk-estimator` class\n",
              "*/\n",
              "\n",
              "/* Pipeline and ColumnTransformer style (default) */\n",
              "\n",
              "#sk-container-id-1 div.sk-toggleable {\n",
              "  /* Default theme specific background. It is overwritten whether we have a\n",
              "  specific estimator or a Pipeline/ColumnTransformer */\n",
              "  background-color: var(--sklearn-color-background);\n",
              "}\n",
              "\n",
              "/* Toggleable label */\n",
              "#sk-container-id-1 label.sk-toggleable__label {\n",
              "  cursor: pointer;\n",
              "  display: block;\n",
              "  width: 100%;\n",
              "  margin-bottom: 0;\n",
              "  padding: 0.5em;\n",
              "  box-sizing: border-box;\n",
              "  text-align: center;\n",
              "}\n",
              "\n",
              "#sk-container-id-1 label.sk-toggleable__label-arrow:before {\n",
              "  /* Arrow on the left of the label */\n",
              "  content: \"▸\";\n",
              "  float: left;\n",
              "  margin-right: 0.25em;\n",
              "  color: var(--sklearn-color-icon);\n",
              "}\n",
              "\n",
              "#sk-container-id-1 label.sk-toggleable__label-arrow:hover:before {\n",
              "  color: var(--sklearn-color-text);\n",
              "}\n",
              "\n",
              "/* Toggleable content - dropdown */\n",
              "\n",
              "#sk-container-id-1 div.sk-toggleable__content {\n",
              "  max-height: 0;\n",
              "  max-width: 0;\n",
              "  overflow: hidden;\n",
              "  text-align: left;\n",
              "  /* unfitted */\n",
              "  background-color: var(--sklearn-color-unfitted-level-0);\n",
              "}\n",
              "\n",
              "#sk-container-id-1 div.sk-toggleable__content.fitted {\n",
              "  /* fitted */\n",
              "  background-color: var(--sklearn-color-fitted-level-0);\n",
              "}\n",
              "\n",
              "#sk-container-id-1 div.sk-toggleable__content pre {\n",
              "  margin: 0.2em;\n",
              "  border-radius: 0.25em;\n",
              "  color: var(--sklearn-color-text);\n",
              "  /* unfitted */\n",
              "  background-color: var(--sklearn-color-unfitted-level-0);\n",
              "}\n",
              "\n",
              "#sk-container-id-1 div.sk-toggleable__content.fitted pre {\n",
              "  /* unfitted */\n",
              "  background-color: var(--sklearn-color-fitted-level-0);\n",
              "}\n",
              "\n",
              "#sk-container-id-1 input.sk-toggleable__control:checked~div.sk-toggleable__content {\n",
              "  /* Expand drop-down */\n",
              "  max-height: 200px;\n",
              "  max-width: 100%;\n",
              "  overflow: auto;\n",
              "}\n",
              "\n",
              "#sk-container-id-1 input.sk-toggleable__control:checked~label.sk-toggleable__label-arrow:before {\n",
              "  content: \"▾\";\n",
              "}\n",
              "\n",
              "/* Pipeline/ColumnTransformer-specific style */\n",
              "\n",
              "#sk-container-id-1 div.sk-label input.sk-toggleable__control:checked~label.sk-toggleable__label {\n",
              "  color: var(--sklearn-color-text);\n",
              "  background-color: var(--sklearn-color-unfitted-level-2);\n",
              "}\n",
              "\n",
              "#sk-container-id-1 div.sk-label.fitted input.sk-toggleable__control:checked~label.sk-toggleable__label {\n",
              "  background-color: var(--sklearn-color-fitted-level-2);\n",
              "}\n",
              "\n",
              "/* Estimator-specific style */\n",
              "\n",
              "/* Colorize estimator box */\n",
              "#sk-container-id-1 div.sk-estimator input.sk-toggleable__control:checked~label.sk-toggleable__label {\n",
              "  /* unfitted */\n",
              "  background-color: var(--sklearn-color-unfitted-level-2);\n",
              "}\n",
              "\n",
              "#sk-container-id-1 div.sk-estimator.fitted input.sk-toggleable__control:checked~label.sk-toggleable__label {\n",
              "  /* fitted */\n",
              "  background-color: var(--sklearn-color-fitted-level-2);\n",
              "}\n",
              "\n",
              "#sk-container-id-1 div.sk-label label.sk-toggleable__label,\n",
              "#sk-container-id-1 div.sk-label label {\n",
              "  /* The background is the default theme color */\n",
              "  color: var(--sklearn-color-text-on-default-background);\n",
              "}\n",
              "\n",
              "/* On hover, darken the color of the background */\n",
              "#sk-container-id-1 div.sk-label:hover label.sk-toggleable__label {\n",
              "  color: var(--sklearn-color-text);\n",
              "  background-color: var(--sklearn-color-unfitted-level-2);\n",
              "}\n",
              "\n",
              "/* Label box, darken color on hover, fitted */\n",
              "#sk-container-id-1 div.sk-label.fitted:hover label.sk-toggleable__label.fitted {\n",
              "  color: var(--sklearn-color-text);\n",
              "  background-color: var(--sklearn-color-fitted-level-2);\n",
              "}\n",
              "\n",
              "/* Estimator label */\n",
              "\n",
              "#sk-container-id-1 div.sk-label label {\n",
              "  font-family: monospace;\n",
              "  font-weight: bold;\n",
              "  display: inline-block;\n",
              "  line-height: 1.2em;\n",
              "}\n",
              "\n",
              "#sk-container-id-1 div.sk-label-container {\n",
              "  text-align: center;\n",
              "}\n",
              "\n",
              "/* Estimator-specific */\n",
              "#sk-container-id-1 div.sk-estimator {\n",
              "  font-family: monospace;\n",
              "  border: 1px dotted var(--sklearn-color-border-box);\n",
              "  border-radius: 0.25em;\n",
              "  box-sizing: border-box;\n",
              "  margin-bottom: 0.5em;\n",
              "  /* unfitted */\n",
              "  background-color: var(--sklearn-color-unfitted-level-0);\n",
              "}\n",
              "\n",
              "#sk-container-id-1 div.sk-estimator.fitted {\n",
              "  /* fitted */\n",
              "  background-color: var(--sklearn-color-fitted-level-0);\n",
              "}\n",
              "\n",
              "/* on hover */\n",
              "#sk-container-id-1 div.sk-estimator:hover {\n",
              "  /* unfitted */\n",
              "  background-color: var(--sklearn-color-unfitted-level-2);\n",
              "}\n",
              "\n",
              "#sk-container-id-1 div.sk-estimator.fitted:hover {\n",
              "  /* fitted */\n",
              "  background-color: var(--sklearn-color-fitted-level-2);\n",
              "}\n",
              "\n",
              "/* Specification for estimator info (e.g. \"i\" and \"?\") */\n",
              "\n",
              "/* Common style for \"i\" and \"?\" */\n",
              "\n",
              ".sk-estimator-doc-link,\n",
              "a:link.sk-estimator-doc-link,\n",
              "a:visited.sk-estimator-doc-link {\n",
              "  float: right;\n",
              "  font-size: smaller;\n",
              "  line-height: 1em;\n",
              "  font-family: monospace;\n",
              "  background-color: var(--sklearn-color-background);\n",
              "  border-radius: 1em;\n",
              "  height: 1em;\n",
              "  width: 1em;\n",
              "  text-decoration: none !important;\n",
              "  margin-left: 1ex;\n",
              "  /* unfitted */\n",
              "  border: var(--sklearn-color-unfitted-level-1) 1pt solid;\n",
              "  color: var(--sklearn-color-unfitted-level-1);\n",
              "}\n",
              "\n",
              ".sk-estimator-doc-link.fitted,\n",
              "a:link.sk-estimator-doc-link.fitted,\n",
              "a:visited.sk-estimator-doc-link.fitted {\n",
              "  /* fitted */\n",
              "  border: var(--sklearn-color-fitted-level-1) 1pt solid;\n",
              "  color: var(--sklearn-color-fitted-level-1);\n",
              "}\n",
              "\n",
              "/* On hover */\n",
              "div.sk-estimator:hover .sk-estimator-doc-link:hover,\n",
              ".sk-estimator-doc-link:hover,\n",
              "div.sk-label-container:hover .sk-estimator-doc-link:hover,\n",
              ".sk-estimator-doc-link:hover {\n",
              "  /* unfitted */\n",
              "  background-color: var(--sklearn-color-unfitted-level-3);\n",
              "  color: var(--sklearn-color-background);\n",
              "  text-decoration: none;\n",
              "}\n",
              "\n",
              "div.sk-estimator.fitted:hover .sk-estimator-doc-link.fitted:hover,\n",
              ".sk-estimator-doc-link.fitted:hover,\n",
              "div.sk-label-container:hover .sk-estimator-doc-link.fitted:hover,\n",
              ".sk-estimator-doc-link.fitted:hover {\n",
              "  /* fitted */\n",
              "  background-color: var(--sklearn-color-fitted-level-3);\n",
              "  color: var(--sklearn-color-background);\n",
              "  text-decoration: none;\n",
              "}\n",
              "\n",
              "/* Span, style for the box shown on hovering the info icon */\n",
              ".sk-estimator-doc-link span {\n",
              "  display: none;\n",
              "  z-index: 9999;\n",
              "  position: relative;\n",
              "  font-weight: normal;\n",
              "  right: .2ex;\n",
              "  padding: .5ex;\n",
              "  margin: .5ex;\n",
              "  width: min-content;\n",
              "  min-width: 20ex;\n",
              "  max-width: 50ex;\n",
              "  color: var(--sklearn-color-text);\n",
              "  box-shadow: 2pt 2pt 4pt #999;\n",
              "  /* unfitted */\n",
              "  background: var(--sklearn-color-unfitted-level-0);\n",
              "  border: .5pt solid var(--sklearn-color-unfitted-level-3);\n",
              "}\n",
              "\n",
              ".sk-estimator-doc-link.fitted span {\n",
              "  /* fitted */\n",
              "  background: var(--sklearn-color-fitted-level-0);\n",
              "  border: var(--sklearn-color-fitted-level-3);\n",
              "}\n",
              "\n",
              ".sk-estimator-doc-link:hover span {\n",
              "  display: block;\n",
              "}\n",
              "\n",
              "/* \"?\"-specific style due to the `<a>` HTML tag */\n",
              "\n",
              "#sk-container-id-1 a.estimator_doc_link {\n",
              "  float: right;\n",
              "  font-size: 1rem;\n",
              "  line-height: 1em;\n",
              "  font-family: monospace;\n",
              "  background-color: var(--sklearn-color-background);\n",
              "  border-radius: 1rem;\n",
              "  height: 1rem;\n",
              "  width: 1rem;\n",
              "  text-decoration: none;\n",
              "  /* unfitted */\n",
              "  color: var(--sklearn-color-unfitted-level-1);\n",
              "  border: var(--sklearn-color-unfitted-level-1) 1pt solid;\n",
              "}\n",
              "\n",
              "#sk-container-id-1 a.estimator_doc_link.fitted {\n",
              "  /* fitted */\n",
              "  border: var(--sklearn-color-fitted-level-1) 1pt solid;\n",
              "  color: var(--sklearn-color-fitted-level-1);\n",
              "}\n",
              "\n",
              "/* On hover */\n",
              "#sk-container-id-1 a.estimator_doc_link:hover {\n",
              "  /* unfitted */\n",
              "  background-color: var(--sklearn-color-unfitted-level-3);\n",
              "  color: var(--sklearn-color-background);\n",
              "  text-decoration: none;\n",
              "}\n",
              "\n",
              "#sk-container-id-1 a.estimator_doc_link.fitted:hover {\n",
              "  /* fitted */\n",
              "  background-color: var(--sklearn-color-fitted-level-3);\n",
              "}\n",
              "</style><div id=\"sk-container-id-1\" class=\"sk-top-container\"><div class=\"sk-text-repr-fallback\"><pre>RandomForestClassifier(random_state=42)</pre><b>In a Jupyter environment, please rerun this cell to show the HTML representation or trust the notebook. <br />On GitHub, the HTML representation is unable to render, please try loading this page with nbviewer.org.</b></div><div class=\"sk-container\" hidden><div class=\"sk-item\"><div class=\"sk-estimator fitted sk-toggleable\"><input class=\"sk-toggleable__control sk-hidden--visually\" id=\"sk-estimator-id-1\" type=\"checkbox\" checked><label for=\"sk-estimator-id-1\" class=\"sk-toggleable__label fitted sk-toggleable__label-arrow fitted\">&nbsp;&nbsp;RandomForestClassifier<a class=\"sk-estimator-doc-link fitted\" rel=\"noreferrer\" target=\"_blank\" href=\"https://scikit-learn.org/1.5/modules/generated/sklearn.ensemble.RandomForestClassifier.html\">?<span>Documentation for RandomForestClassifier</span></a><span class=\"sk-estimator-doc-link fitted\">i<span>Fitted</span></span></label><div class=\"sk-toggleable__content fitted\"><pre>RandomForestClassifier(random_state=42)</pre></div> </div></div></div></div>"
            ]
          },
          "metadata": {},
          "execution_count": 15
        }
      ]
    },
    {
      "cell_type": "markdown",
      "source": [
        "### Evaluasi Model\n",
        "- **Classification Report:** Memberikan metrik evaluasi seperti precision, recall, f1-score, dan support untuk masing-masing kelas.\n",
        "- **Confusion Matrix:** Menunjukkan perbandingan antara prediksi model dan nilai sebenarnya.\n",
        "- **Akurasi Model:** Menghitung akurasi model untuk mengetahui persentase prediksi yang benar.\n"
      ],
      "metadata": {
        "id": "XY9ro4XrvYe_"
      }
    },
    {
      "cell_type": "markdown",
      "source": [
        "## Hasil dan Pembahasan"
      ],
      "metadata": {
        "id": "gTuT31QWvn5q"
      }
    },
    {
      "cell_type": "markdown",
      "source": [
        "### Hasil Evaluasi Model\n",
        "Berikut adalah hasil evaluasi model menggunakan metrik yang telah disebutkan:\n"
      ],
      "metadata": {
        "id": "XxZe3ptHvvul"
      }
    },
    {
      "cell_type": "code",
      "source": [
        "# 7. Evaluasi Model\n",
        "y_pred = rf_model.predict(X_test)\n",
        "\n",
        "# Classification Report\n",
        "print(\"\\nClassification Report:\")\n",
        "print(classification_report(y_test, y_pred))"
      ],
      "metadata": {
        "colab": {
          "base_uri": "https://localhost:8080/"
        },
        "id": "IqyKX8Saqpp9",
        "outputId": "584de455-187b-4e0e-da23-06baeb538193"
      },
      "execution_count": null,
      "outputs": [
        {
          "output_type": "stream",
          "name": "stdout",
          "text": [
            "\n",
            "Classification Report:\n",
            "              precision    recall  f1-score   support\n",
            "\n",
            "           0       0.84      0.87      0.85     10559\n",
            "           1       0.76      0.71      0.73      6156\n",
            "\n",
            "    accuracy                           0.81     16715\n",
            "   macro avg       0.80      0.79      0.79     16715\n",
            "weighted avg       0.81      0.81      0.81     16715\n",
            "\n"
          ]
        }
      ]
    },
    {
      "cell_type": "markdown",
      "source": [
        "# **Pembahasan Hasil Evaluasi Model**\n",
        "\n",
        "Hasil evaluasi model menggunakan *Classification Report* menunjukkan performa model prediksi pembatalan pemesanan dengan metrik utama, yaitu *precision*, *recall*, dan *f1-score*. Berikut adalah analisis berdasarkan hasil evaluasi:\n",
        "\n",
        "---\n",
        "\n",
        "## **1. Akurasi Keseluruhan**\n",
        "- **Akurasi Model: 81%**\n",
        "  - Model mencapai akurasi sebesar **81%**, yang berarti **81%** dari seluruh prediksi model sesuai dengan nilai aktual. Angka ini menunjukkan performa model yang cukup baik untuk mengklasifikasikan pembatalan pemesanan.\n",
        "\n",
        "---\n",
        "\n",
        "## **2. Evaluasi Kinerja Berdasarkan Kelas**\n",
        "\n",
        "### **Kelas 0 (Tidak Membatalkan Pemesanan)**\n",
        "- **Precision:** 84%  \n",
        "  Dari semua prediksi yang mengatakan pelanggan **tidak membatalkan**, **84%** benar.\n",
        "- **Recall:** 87%  \n",
        "  Dari semua pelanggan yang benar-benar **tidak membatalkan**, **87%** teridentifikasi dengan benar oleh model.\n",
        "- **F1-score:** 85%  \n",
        "  Kombinasi antara *precision* dan *recall* menunjukkan bahwa model lebih baik dalam memprediksi pelanggan yang **tidak membatalkan pemesanan**.\n",
        "\n",
        "### **Kelas 1 (Membatalkan Pemesanan)**\n",
        "- **Precision:** 76%  \n",
        "  Dari semua prediksi yang mengatakan pelanggan **membatalkan**, **76%** benar.\n",
        "- **Recall:** 71%  \n",
        "  Dari semua pelanggan yang benar-benar **membatalkan**, hanya **71%** yang teridentifikasi dengan benar oleh model.\n",
        "- **F1-score:** 73%  \n",
        "  Indikator kinerja keseluruhan untuk kelas ini lebih rendah dibandingkan kelas 0, menunjukkan bahwa model masih memiliki kelemahan dalam memprediksi pelanggan yang **membatalkan pemesanan**.\n",
        "\n",
        "---\n",
        "\n",
        "## **3. Analisis Makro dan *Weighted Average***\n",
        "- **Macro Average:**  \n",
        "  - *Precision* = 80%, *Recall* = 79%, *F1-score* = 79%  \n",
        "  Memberikan gambaran kinerja rata-rata untuk kedua kelas tanpa mempertimbangkan proporsi data.\n",
        "\n",
        "- **Weighted Average:**  \n",
        "  - Semua metrik berkisar pada **81%**, mempertimbangkan distribusi jumlah data pada masing-masing kelas (lebih banyak data untuk kelas 0).\n",
        "\n",
        "---\n",
        "\n",
        "## **Kesimpulan**\n",
        "- Model memiliki performa yang lebih baik dalam memprediksi pelanggan yang **tidak membatalkan pemesanan** (kelas 0) dibandingkan dengan pelanggan yang **membatalkan pemesanan** (kelas 1).\n",
        "- Kinerja model pada kelas 1 dapat ditingkatkan, misalnya dengan mengoptimalkan parameter model, menangani ketidakseimbangan data, atau menambahkan fitur yang lebih relevan untuk memprediksi pembatalan.\n"
      ],
      "metadata": {
        "id": "TE-X_wu_KKa7"
      }
    },
    {
      "cell_type": "markdown",
      "source": [
        "### Confusion Matrix:\n",
        "Matriks ini menunjukkan jumlah prediksi yang benar dan salah untuk setiap kelas (Not Canceled dan Canceled).\n",
        "\n",
        "**Akurasi Model:** Model memiliki akurasi sebesar 87%, yang menunjukkan bahwa model berhasil memprediksi pembatalan pemesanan dengan tingkat keberhasilan yang baik."
      ],
      "metadata": {
        "id": "d1QdQTmRv3fF"
      }
    },
    {
      "cell_type": "code",
      "source": [
        "# Confusion Matrix\n",
        "conf_matrix = confusion_matrix(y_test, y_pred)\n",
        "sns.heatmap(conf_matrix, annot=True, fmt='d', cmap='Blues', xticklabels=['Not Canceled', 'Canceled'], yticklabels=['Not Canceled', 'Canceled'])\n",
        "plt.title('Confusion Matrix')\n",
        "plt.xlabel('Predicted')\n",
        "plt.ylabel('Actual')\n",
        "plt.show()"
      ],
      "metadata": {
        "colab": {
          "base_uri": "https://localhost:8080/",
          "height": 474
        },
        "id": "KyeZcc_vqvMt",
        "outputId": "eb304f88-686b-4e3f-a5b9-7e5ac1d91162"
      },
      "execution_count": null,
      "outputs": [
        {
          "output_type": "display_data",
          "data": {
            "text/plain": [
              "<Figure size 640x480 with 2 Axes>"
            ],
            "image/png": "[encoded data removed]"
          },
          "metadata": {}
        }
      ]
    },
    {
      "cell_type": "markdown",
      "source": [
        "# Confusion Matrix: Analisis dan Interpretasi\n",
        "\n",
        "Gambar berikut menunjukkan **Confusion Matrix** dari model klasifikasi biner dengan dua kelas: *Not Canceled* dan *Canceled*. Berikut adalah analisisnya:\n",
        "\n",
        "## Penjelasan Matriks:\n",
        "1. **True Positives (TP)**: 4346  \n",
        "   Jumlah prediksi yang benar bahwa suatu data termasuk kelas *Canceled*.\n",
        "   \n",
        "2. **True Negatives (TN)**: 9188  \n",
        "   Jumlah prediksi yang benar bahwa suatu data termasuk kelas *Not Canceled*.\n",
        "\n",
        "3. **False Positives (FP)**: 1371  \n",
        "   Jumlah prediksi yang salah di mana model memprediksi *Canceled* tetapi sebenarnya *Not Canceled*.\n",
        "\n",
        "4. **False Negatives (FN)**: 1810  \n",
        "   Jumlah prediksi yang salah di mana model memprediksi *Not Canceled* tetapi sebenarnya *Canceled*.\n",
        "\n",
        "---\n",
        "\n",
        "## Evaluasi Performa Model:\n",
        "1. **Akurasi**:  \n",
        "   Mengukur persentase prediksi yang benar dari total prediksi.  \n",
        "   \\[\n",
        "   \\text{Akurasi} = \\frac{TP + TN}{TP + TN + FP + FN} = \\frac{4346 + 9188}{4346 + 9188 + 1371 + 1810} \\approx 87\\%\n",
        "   \\]\n",
        "\n",
        "2. **Presisi untuk *Canceled***:  \n",
        "   Mengukur seberapa akurat prediksi model dalam menentukan *Canceled*.  \n",
        "   \\[\n",
        "   \\text{Presisi} = \\frac{TP}{TP + FP} = \\frac{4346}{4346 + 1371} \\approx 76\\%\n",
        "   \\]\n",
        "\n",
        "3. **Recall untuk *Canceled***:  \n",
        "   Mengukur kemampuan model dalam menemukan data yang benar-benar *Canceled*.  \n",
        "   \\[\n",
        "   \\text{Recall} = \\frac{TP}{TP + FN} = \\frac{4346}{4346 + 1810} \\approx 71\\%\n",
        "   \\]\n",
        "\n",
        "4. **F1-Score**:  \n",
        "   Kombinasi antara presisi dan recall.  \n",
        "   \\[\n",
        "   F1 = 2 \\cdot \\frac{\\text{Presisi} \\cdot \\text{Recall}}{\\text{Presisi} + \\text{Recall}}\n",
        "   \\]\n",
        "\n",
        "---\n",
        "\n",
        "## Interpretasi:\n",
        "- **Model Akurasi Tinggi**: Model memiliki akurasi sebesar **87%**, menunjukkan performa yang baik.\n",
        "- **Kesalahan Tidak Seimbang**:\n",
        "  - *False Negatives* (1810) lebih tinggi dibandingkan *False Positives* (1371), sehingga model lebih sering gagal mendeteksi kelas *Canceled*.\n",
        "- **Rekomendasi Perbaikan**:\n",
        "  - Melakukan penyesuaian threshold jika mendeteksi *Canceled* lebih penting.\n",
        "  - Menggunakan teknik seperti *class balancing* jika dataset tidak seimbang.\n",
        "  - Menambahkan lebih banyak data pelatihan.\n",
        "\n",
        "---\n",
        "\n",
        "## Kesimpulan:\n",
        "Model memiliki performa yang cukup baik, namun dapat dioptimalkan lebih lanjut terutama untuk meningkatkan recall pada kelas *Canceled*.\n"
      ],
      "metadata": {
        "id": "YoLVS642KgaK"
      }
    },
    {
      "cell_type": "markdown",
      "source": [
        "### Feature Importance\n",
        "Model Random Forest memberikan gambaran tentang pentingnya fitur-fitur dalam memprediksi pembatalan pemesanan, dengan fitur-fitur seperti previous_cancellations dan days_in_waiting_list menjadi yang paling signifikan.\n"
      ],
      "metadata": {
        "id": "zqS31-OawE6_"
      }
    },
    {
      "cell_type": "code",
      "source": [
        "# 8. Feature Importance\n",
        "feature_importances = pd.DataFrame({'Feature': X.columns, 'Importance': rf_model.feature_importances_}).sort_values(by='Importance', ascending=False)\n",
        "print(\"\\nFeature Importances:\")\n",
        "print(feature_importances.head(10))\n",
        "\n",
        "# Visualisasi feature importance\n",
        "sns.barplot(x='Importance', y='Feature', data=feature_importances.head(10))\n",
        "plt.title('Top 10 Feature Importances')\n",
        "plt.xlabel('Importance')\n",
        "plt.ylabel('Feature')\n",
        "plt.show()\n",
        "\n",
        "# Korelasi fitur numerik\n",
        "numeric_features = ['previous_cancellations', 'booking_changes', 'days_in_waiting_list', 'total_of_special_requests', 'is_canceled']\n",
        "sns.heatmap(df[numeric_features].corr(), annot=True, cmap='coolwarm')\n",
        "plt.title('Korelasi Fitur Numerik')\n",
        "plt.show()\n",
        "\n",
        "# 9. Evaluasi Model - Akurasi\n",
        "accuracy = accuracy_score(y_test, y_pred)\n",
        "print(f\"Akurasi Model: {accuracy * 100:.2f}%\")"
      ],
      "metadata": {
        "colab": {
          "base_uri": "https://localhost:8080/",
          "height": 1000
        },
        "id": "obKSFDYVqx-5",
        "outputId": "0adf46bd-b4cd-4156-92a5-8966a90acd79"
      },
      "execution_count": null,
      "outputs": [
        {
          "output_type": "stream",
          "name": "stdout",
          "text": [
            "\n",
            "Feature Importances:\n",
            "                         Feature  Importance\n",
            "166      deposit_type_Non Refund    0.197619\n",
            "4      total_of_special_requests    0.114387\n",
            "127                  country_123    0.114213\n",
            "0         previous_cancellations    0.077068\n",
            "176     market_segment_Online TA    0.060471\n",
            "3    required_car_parking_spaces    0.053989\n",
            "1                booking_changes    0.053150\n",
            "174        market_segment_Groups    0.046803\n",
            "169      customer_type_Transient    0.032351\n",
            "173        market_segment_Direct    0.023242\n"
          ]
        },
        {
          "output_type": "display_data",
          "data": {
            "text/plain": [
              "<Figure size 640x480 with 1 Axes>"
            ],
            "image/png": "[encoded data removed]"
          },
          "metadata": {}
        },
        {
          "output_type": "display_data",
          "data": {
            "text/plain": [
              "<Figure size 640x480 with 2 Axes>"
            ],
            "image/png": "[encoded data removed]"
          },
          "metadata": {}
        },
        {
          "output_type": "stream",
          "name": "stdout",
          "text": [
            "Akurasi Model: 80.97%\n"
          ]
        }
      ]
    },
    {
      "cell_type": "markdown",
      "source": [
        "# Analisis Feature Importances dan Korelasi Fitur\n",
        "\n",
        "## 1. Feature Importances\n",
        "Grafik \"Top 10 Feature Importances\" menunjukkan fitur-fitur yang paling berkontribusi terhadap prediksi pembatalan (*is_canceled*). Berikut adalah daftar fitur dengan tingkat kepentingan tertinggi:\n",
        "\n",
        "| **Feature**                    | **Importance** |\n",
        "|---------------------------------|----------------|\n",
        "| `deposit_type_Non Refund`       | 0.1976         |\n",
        "| `total_of_special_requests`     | 0.1144         |\n",
        "| `country_123`                   | 0.1142         |\n",
        "| `previous_cancellations`        | 0.0771         |\n",
        "| `market_segment_Online TA`      | 0.0605         |\n",
        "| `required_car_parking_spaces`   | 0.0540         |\n",
        "| `booking_changes`               | 0.0532         |\n",
        "| `market_segment_Groups`         | 0.0468         |\n",
        "| `customer_type_Transient`       | 0.0324         |\n",
        "| `market_segment_Direct`         | 0.0232         |\n",
        "\n",
        "### **Interpretasi**:\n",
        "- **`deposit_type_Non Refund`** adalah fitur paling penting, menunjukkan bahwa pelanggan dengan deposit non-refundable cenderung tidak membatalkan.\n",
        "- **`total_of_special_requests`** dan **`previous_cancellations`** juga penting, memberikan wawasan tentang pengaruh permintaan khusus dan riwayat pembatalan terhadap perilaku pelanggan.\n",
        "- Segmen pasar seperti **`market_segment_Online TA`** memiliki pengaruh yang signifikan terhadap pembatalan.\n",
        "\n",
        "---\n",
        "\n",
        "## 2. Korelasi Fitur Numerik\n",
        "Heatmap korelasi memperlihatkan hubungan antara fitur numerik utama dan target (`is_canceled`):\n",
        "\n",
        "| **Fitur**                     | **Korelasi dengan `is_canceled`** |\n",
        "|--------------------------------|------------------------------------|\n",
        "| `total_of_special_requests`    | -0.24                             |\n",
        "| `previous_cancellations`       | 0.11                              |\n",
        "| `booking_changes`              | -0.15                             |\n",
        "| `days_in_waiting_list`         | 0.056                             |\n",
        "\n",
        "### **Interpretasi**:\n",
        "- **`total_of_special_requests` (-0.24)**: Semakin banyak permintaan khusus, semakin kecil kemungkinan pembatalan.\n",
        "- **`previous_cancellations` (0.11)**: Korelasi positif menunjukkan bahwa riwayat pembatalan sedikit memengaruhi kemungkinan pembatalan berikutnya.\n",
        "- **`booking_changes` (-0.15)**: Korelasi negatif menunjukkan bahwa lebih banyak perubahan pada pemesanan mengurangi kemungkinan pembatalan.\n",
        "\n",
        "---\n",
        "\n",
        "## 3. Akurasi Model\n",
        "Hasil evaluasi menunjukkan bahwa model memiliki akurasi **80.97%**.\n",
        "\n",
        "### **Evaluasi Akurasi**:\n",
        "- **Akurasi 80.97%** adalah performa yang cukup baik, menunjukkan bahwa model dapat memprediksi pembatalan dengan tingkat keberhasilan tinggi.\n",
        "- Untuk analisis lebih mendalam, metrik lain seperti *precision*, *recall*, atau *F1-score* dapat digunakan, terutama jika kelas target tidak seimbang.\n",
        "\n",
        "---\n",
        "\n",
        "## Kesimpulan\n",
        "Model memiliki performa yang baik dengan akurasi 80.97%. Namun, analisis lebih lanjut dan optimasi diperlukan untuk meningkatkan performa serta memberikan wawasan yang lebih relevan untuk pengambilan keputusan bisnis.\n"
      ],
      "metadata": {
        "id": "J_TcirWXMLKk"
      }
    },
    {
      "cell_type": "markdown",
      "source": [
        "# **Kesimpulan dan Rekomendasi**\n",
        "\n",
        "## **Kesimpulan**\n",
        "Model prediksi yang dikembangkan mampu mengidentifikasi pelanggan yang memiliki risiko tinggi membatalkan pemesanannya. Dengan akurasi sebesar **81%**, model menunjukkan performa yang cukup baik, khususnya dalam memprediksi pelanggan yang **tidak membatalkan** pemesanan (kelas 0). Namun, terdapat ruang untuk peningkatan kinerja dalam memprediksi pelanggan yang membatalkan pemesanan (kelas 1).\n",
        "\n",
        "Hasil analisis menunjukkan:\n",
        "- **Deposit Type (Non-Refundable)** menjadi fitur terpenting dalam model prediksi.\n",
        "- Pelanggan yang sering membatalkan pemesanan sebelumnya atau memiliki banyak permintaan khusus memiliki kecenderungan lebih tinggi untuk membatalkan.\n",
        "- Mayoritas pelanggan **tidak memerlukan tempat parkir** atau **daftar tunggu**, sehingga ini menjadi faktor yang kurang dominan dalam pembatalan pemesanan.\n",
        "\n",
        "---\n",
        "\n",
        "## **Rekomendasi**\n",
        "Berdasarkan hasil analisis, berikut rekomendasi untuk hotel agar dapat mengurangi tingkat pembatalan dan meningkatkan efektivitas layanan:\n",
        "\n",
        "### **1. Meningkatkan Kebijakan Deposit**\n",
        "- Terapkan kebijakan **deposit Non-Refundable** untuk pelanggan yang memiliki riwayat pembatalan tinggi.\n",
        "- Berikan insentif, seperti **potongan harga** atau **penawaran khusus**, bagi pelanggan yang memilih untuk membayar deposit penuh di awal.\n",
        "\n",
        "### **2. Segmentasi Pelanggan Berdasarkan Risiko**\n",
        "- Kembangkan strategi segmentasi berdasarkan risiko pembatalan pelanggan.\n",
        "  - **Risiko Rendah:** Berikan promosi dan penawaran khusus untuk kelompok pelanggan ini, karena mereka cenderung tidak membatalkan.\n",
        "  - **Risiko Tinggi:** Perhatikan kebutuhan mereka dengan lebih cermat dan berikan insentif agar mereka tetap melanjutkan pemesanannya.\n",
        "\n",
        "### **3. Peningkatan Layanan Pelanggan**\n",
        "- Tingkatkan pelayanan untuk pelanggan yang memiliki **permintaan khusus** atau membutuhkan **tempat parkir**, karena mereka mungkin merasa kurang puas jika kebutuhan spesifiknya tidak terpenuhi.\n",
        "- Optimalkan **sistem pemesanan** untuk menangani pelanggan yang masuk daftar tunggu agar dapat segera dikonfirmasi atau diarahkan ke opsi alternatif.\n"
      ],
      "metadata": {
        "id": "CjZUqDbGwMrr"
      }
    }
  ]
}